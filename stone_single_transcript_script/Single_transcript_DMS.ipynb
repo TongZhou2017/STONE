{
 "cells": [
  {
   "cell_type": "code",
   "execution_count": 1,
   "metadata": {},
   "outputs": [],
   "source": [
    "import numpy as np\n",
    "import pandas as pd\n",
    "import pickle\n",
    "from calc_auc import calculate_auc\n",
    "import os"
   ]
  },
  {
   "cell_type": "code",
   "execution_count": 95,
   "metadata": {
    "notebookRunGroups": {
     "groupValue": "2"
    }
   },
   "outputs": [
    {
     "data": {
      "text/plain": [
       "((914, 15), (914,), (914,), (914,))"
      ]
     },
     "execution_count": 95,
     "metadata": {},
     "output_type": "execute_result"
    }
   ],
   "source": [
    "from preprocess_testnew_data import process_testdata\n",
    "file_path_T = '/home/bioinfo/02_project/01_SHAPE-TM/ML/traing_data/DMS/new_R/test_data_nocontrol/20_HEK293T_human_18s.csv'\n",
    "depth_threshold = 50\n",
    "rf_mutation_Count = 0\n",
    "pipe_truncation_count =0\n",
    "rate_mut = 0.25\n",
    "rate_stop =1\n",
    "acc_threshold = 0\n",
    "filtered_base =['G','T']\n",
    "filter_acc = False \n",
    "X18s, y18s, y18s_mut_score, y18s_stop_score,df18s_cleaned = process_testdata(file_path_T, depth_threshold, rf_mutation_Count,\n",
    "                                                             pipe_truncation_count, rate_mut, rate_stop,\n",
    "                                                             acc_threshold, filtered_bases=filtered_base,\n",
    "                                                             filter_acc=filter_acc)\n",
    "\n",
    "X18s.shape,y18s.shape,y18s_mut_score.shape,y18s_stop_score.shape"
   ]
  },
  {
   "cell_type": "code",
   "execution_count": 9,
   "metadata": {},
   "outputs": [
    {
     "data": {
      "text/plain": [
       "((1410, 15), (1410,), (1410,), (1410,))"
      ]
     },
     "execution_count": 9,
     "metadata": {},
     "output_type": "execute_result"
    }
   ],
   "source": [
    "from preprocess_testnew_data_control import process_testdata\n",
    "file_path_T_18s = '/home/bioinfo/02_project/01_SHAPE-TM/ML/traing_data/SHAPE/newR/shape_result/6_7_model_result/SHAPE_data_DMS_model/Control/add/52_ecoli_23s.csv'\n",
    "file_path_D='/home/bioinfo/02_project/01_SHAPE-TM/ML/traing_data/SHAPE/newR/shape_result/6_7_model_result/SHAPE_data_DMS_model/Control/add/52_DMSO_ecoli_23s.csv'\n",
    "depth_threshold =50\n",
    "rf_mutation_Count = 0\n",
    "pipe_truncation_count =0\n",
    "rate_mut = 0.25\n",
    "rate_stop =1\n",
    "acc_threshold =0\n",
    "filtered_base =['G','T']\n",
    "filter_acc = False \n",
    "Xsc18s, ysc18s, ysc18s_mut_score, ysc18s_stop_score,dfsc18s_cleaned = process_testdata(file_path_T_18s,file_path_D, depth_threshold, rf_mutation_Count,\n",
    "                                                             pipe_truncation_count, rate_mut, rate_stop,\n",
    "                                                             acc_threshold, filtered_bases=filtered_base,\n",
    "                                                             filter_acc=filter_acc)\n",
    "\n",
    "Xsc18s.shape,ysc18s.shape,ysc18s_mut_score.shape,ysc18s_stop_score.shape"
   ]
  },
  {
   "cell_type": "code",
   "execution_count": 2,
   "metadata": {},
   "outputs": [],
   "source": [
    "#loadthemodel \n",
    "automl1=pickle.load(open(\"/home/bioinfo/02_project/01_SHAPE-TM/ML/traing_data/DMS/model/DMS_5_24DMS_500s.sav\",'rb')) "
   ]
  },
  {
   "cell_type": "code",
   "execution_count": null,
   "metadata": {},
   "outputs": [],
   "source": [
    "rf_mutation_Count=0\n",
    "pipe_truncation_count=0\n",
    "# df=pd.read_csv('/home/bioinfo/02_project/01_SHAPE-TM/ML/traing_data/DMS/new_R/DMS_model_result/DMS_model_5_24_200s/500s/control/SHAPE_nocontrol_AUC.csv')\n",
    "df = pd.DataFrame(columns=[\"file_name\", \"AUC_model\", \"AUC_mut\", \"AUC_stop\"])\n",
    "output_directory = '/home/bioinfo/02_project/01_SHAPE-TM/ML/traing_data/DMS/new_R/test_data_nocontrol/only_stop_mut/'\n",
    "file_name = os.path.basename(file_path_T)\n",
    "plot_title = file_name.split('.')[0]\n",
    "save_path=True\n",
    "save_path=os.path.join(output_directory, f\"{plot_title}.pdf\")\n",
    "auc_model,auc_stop,auc_mut,position_SRP,resultSRP,ySRP_mut,ySRP_stop,plt=calculate_auc(X18s, y18s, automl1, df18s_cleaned,rf_mutation_Count,pipe_truncation_count,title=plot_title,save_path=save_path)\n",
    "\n",
    "\n",
    "new_row = pd.DataFrame({\"file_name\": [plot_title],  \"AUC_model\": [auc_model], \"AUC_mut\": [auc_mut], \"AUC_stop\": [auc_stop]})\n",
    "df = pd.concat([df, new_row], ignore_index=True)\n",
    "#output_csv_path = os.path.join(output_directory, \"SHAPE_6_21_nocontrol_onlymut_AUC.csv\")\n",
    "#df.to_csv(output_csv_path, index=False)\n",
    "\n",
    "\n",
    "from output_model_result import merge_and_save_data\n",
    "sequence_length_SRP= 1870\n",
    "\n",
    "csv_path = os.path.join(output_directory, f\"{plot_title}.csv\")\n",
    "merge_and_save_data(position_SRP, resultSRP, ySRP_mut,ySRP_stop,sequence_length_SRP, csv_path)"
   ]
  },
  {
   "cell_type": "code",
   "execution_count": null,
   "metadata": {},
   "outputs": [],
   "source": [
    "# calculate no control data\n",
    "from preprocess_testnew_data import process_testdata\n",
    "from output_model_result import merge_and_save_data\n",
    "\n",
    "directory_path = '/home/bioinfo/02_project/01_SHAPE-TM/ML/traing_data/DMS/20_downsampling'\n",
    "output_directory = '/home/bioinfo/02_project/01_SHAPE-TM/ML/traing_data/DMS/20_downsampling/output'\n",
    "result_csv_path = os.path.join(output_directory, \"20_donwsampling_calc_AUC.csv\")\n",
    "sequence_length = 5300\n",
    "\n",
    "depth_threshold = 50\n",
    "rf_mutation_Count = 0\n",
    "pipe_truncation_count = 0\n",
    "rate_mut = 0.25\n",
    "rate_stop = 1\n",
    "acc_threshold = 0\n",
    "filtered_base = ['G','T']\n",
    "filter_acc = False\n",
    "\n",
    "# load DataFrame\n",
    "if os.path.exists(result_csv_path):\n",
    "    df = pd.read_csv(result_csv_path)\n",
    "else:\n",
    "    df = pd.DataFrame(columns=[\"file_name\", \"AUC_model\", \"AUC_mut\", \"AUC_stop\"])\n",
    "\n",
    "for root, dirs, files in os.walk(directory_path):\n",
    "    for file in files:\n",
    "        if file.endswith(\".csv\"):  \n",
    "            file_path_T = os.path.join(root, file)\n",
    "            X, y, y_mut_score, y_stop_score, df_cleaned = process_testdata(\n",
    "                file_path_T, depth_threshold, rf_mutation_Count,\n",
    "                pipe_truncation_count, rate_mut, rate_stop,\n",
    "                acc_threshold, filtered_bases=filtered_base,\n",
    "                filter_acc=filter_acc\n",
    "            )\n",
    "\n",
    "            #calc AUC\n",
    "            file_name = os.path.basename(file_path_T)\n",
    "            plot_title = file_name.split('.')[0]\n",
    "            save_path = os.path.join(output_directory, f\"{plot_title}.pdf\")\n",
    "            auc_model, auc_stop, auc_mut, position, result, y_mut, y_stop, plt = calculate_auc(\n",
    "                X, y, automl1, df_cleaned, rf_mutation_Count, pipe_truncation_count, title=plot_title, save_path=save_path\n",
    "            )\n",
    "\n",
    "            # 更新结果DataFrame\n",
    "            new_row = pd.DataFrame({\"file_name\": [plot_title], \"AUC_model\": [auc_model], \"AUC_mut\": [auc_mut], \"AUC_stop\": [auc_stop]})\n",
    "            df = pd.concat([df, new_row], ignore_index=True)\n",
    "\n",
    "            # save result CSV\n",
    "            df.to_csv(result_csv_path, index=False)\n",
    "\n",
    "            # save and merge result\n",
    "            csv_path = os.path.join(output_directory, f\"{plot_title}.csv\")\n",
    "            merge_and_save_data(position, result, y_mut, y_stop, sequence_length, csv_path)\n"
   ]
  }
 ],
 "metadata": {
  "kernelspec": {
   "display_name": "Automl",
   "language": "python",
   "name": "python3"
  },
  "language_info": {
   "codemirror_mode": {
    "name": "ipython",
    "version": 3
   },
   "file_extension": ".py",
   "mimetype": "text/x-python",
   "name": "python",
   "nbconvert_exporter": "python",
   "pygments_lexer": "ipython3",
   "version": "3.9.16"
  }
 },
 "nbformat": 4,
 "nbformat_minor": 2
}
